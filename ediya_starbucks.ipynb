{
 "cells": [
  {
   "cell_type": "markdown",
   "id": "04ac3ddd",
   "metadata": {},
   "source": [
    "# 💡이디야는 진짜로 스타벅스를 따라다닐까?"
   ]
  },
  {
   "cell_type": "markdown",
   "id": "613709b0",
   "metadata": {},
   "source": [
    "## 👣 1. 스타벅스 매장 데이터 확보"
   ]
  },
  {
   "cell_type": "code",
   "execution_count": 2,
   "id": "7cb1223a",
   "metadata": {},
   "outputs": [],
   "source": [
    "# requirements\n",
    "\n",
    "from selenium import webdriver\n",
    "from selenium.webdriver.common.by import By\n",
    "from bs4 import BeautifulSoup\n",
    "from urllib.request import urlopen\n",
    "from tqdm import tqdm_notebook\n",
    "from matplotlib import font_manager, rc\n",
    "from matplotlib.colors import ListedColormap\n",
    "import matplotlib.pyplot as plt\n",
    "import pandas as pd\n",
    "import numpy as np\n",
    "import time\n",
    "import platform\n",
    "\n",
    "plt.rcParams[\"axes.unicode_minus\"] = False\n",
    "rc(\"font\", family= \"Malgun Gothic\")\n",
    "%matplotlib inline"
   ]
  },
  {
   "cell_type": "code",
   "execution_count": 3,
   "id": "5b478eae",
   "metadata": {},
   "outputs": [],
   "source": [
    "# 스타벅스 매장 페이지\n",
    "driver = webdriver.Chrome(executable_path=\"../../drive/chromedriver.exe\")\n",
    "driver.get(\"https://www.starbucks.co.kr/store/store_map.do\")"
   ]
  },
  {
   "cell_type": "code",
   "execution_count": 4,
   "id": "bc974f85",
   "metadata": {},
   "outputs": [],
   "source": [
    "first_content = driver.find_element(By.CSS_SELECTOR, '#container > div > form > fieldset > div > section > article.find_store_cont > article > header.loca_search > h3 > a')\n",
    "first_content.click()\n",
    "time.sleep(2)"
   ]
  },
  {
   "cell_type": "code",
   "execution_count": 5,
   "id": "21a59917",
   "metadata": {},
   "outputs": [],
   "source": [
    "second_content = driver.find_element(By.CSS_SELECTOR, '#container > div > form > fieldset > div > section > article.find_store_cont > article > article:nth-child(4) > div.loca_step1 > div.loca_step1_cont > ul > li:nth-child(1) > a')\n",
    "second_content.click()\n",
    "time.sleep(2)"
   ]
  },
  {
   "cell_type": "code",
   "execution_count": 6,
   "id": "ed6987ad",
   "metadata": {},
   "outputs": [],
   "source": [
    "third_content = driver.find_element(By.CSS_SELECTOR, '#mCSB_2_container > ul > li:nth-child(1) > a')\n",
    "third_content.click()\n",
    "time.sleep(2)"
   ]
  },
  {
   "cell_type": "code",
   "execution_count": null,
   "id": "82fdf21b",
   "metadata": {
    "scrolled": true
   },
   "outputs": [],
   "source": [
    "# 페이지 전체 html 코드\n",
    "html = driver.page_source"
   ]
  },
  {
   "cell_type": "code",
   "execution_count": null,
   "id": "ed15e68f",
   "metadata": {},
   "outputs": [],
   "source": [
    "# 가져온 html 코드 구분\n",
    "soup = BeautifulSoup(html, 'html.parser')"
   ]
  },
  {
   "cell_type": "code",
   "execution_count": 9,
   "id": "407e20b0",
   "metadata": {},
   "outputs": [
    {
     "data": {
      "text/plain": [
       "(599,\n",
       " <li class=\"quickResultLstCon\" data-code=\"3762\" data-hlytag=\"null\" data-index=\"0\" data-lat=\"37.501087\" data-long=\"127.043069\" data-name=\"역삼아레나빌딩\" data-storecd=\"1509\" style=\"background:#fff\"> <strong data-my_siren_order_store_yn=\"N\" data-name=\"역삼아레나빌딩\" data-store=\"1509\" data-yn=\"N\">역삼아레나빌딩  </strong> <p class=\"result_details\">서울특별시 강남구 언주로 425 (역삼동)<br/>1522-3232</p> <i class=\"pin_general\">리저브 매장 2번</i></li>)"
      ]
     },
     "execution_count": 9,
     "metadata": {},
     "output_type": "execute_result"
    }
   ],
   "source": [
    "# 스타벅스 매장 수, 코드 확인\n",
    "starbucks_soup_list = soup.find(\"div\", id = \"mCSB_3_container\").find_all(\"li\", class_ = 'quickResultLstCon')\n",
    "len(starbucks_soup_list), starbucks_soup_list[0]"
   ]
  },
  {
   "cell_type": "code",
   "execution_count": 10,
   "id": "c7c54323",
   "metadata": {},
   "outputs": [
    {
     "data": {
      "text/plain": [
       "('역삼아레나빌딩', '서울특별시 강남구 언주로 425 (역삼동)', '강남구')"
      ]
     },
     "execution_count": 10,
     "metadata": {},
     "output_type": "execute_result"
    }
   ],
   "source": [
    "# 스타벅스 매장명, 주소, 구 확인\n",
    "sb_name = starbucks_soup_list[0].find(\"strong\").text.strip()\n",
    "sb_address = starbucks_soup_list[0].find(class_=\"result_details\").text.strip()[:-9]\n",
    "sb_address_gu = sb_address.split(\" \")[1]\n",
    "sb_name, sb_address, sb_address_gu"
   ]
  },
  {
   "cell_type": "code",
   "execution_count": null,
   "id": "4318bc94",
   "metadata": {
    "scrolled": true
   },
   "outputs": [],
   "source": [
    "# 스타벅스 서울 모든 매장명, 주소, 구 추출\n",
    "\n",
    "sb_list = []\n",
    "\n",
    "for item in starbucks_soup_list:\n",
    "    sb_name = item.find(\"strong\").text.strip()\n",
    "    sb_address = item.find(class_=\"result_details\").text.strip()[:-9]\n",
    "    sb_address_gu = sb_address.split(\" \")[1]\n",
    "    \n",
    "    sb = {\n",
    "        \"매장명\" : sb_name,\n",
    "        \"주소\" : sb_address,\n",
    "        \"구\" : sb_address_gu\n",
    "    }\n",
    "    sb_list.append(sb)\n",
    "    \n",
    "# sb_list    "
   ]
  },
  {
   "cell_type": "code",
   "execution_count": 12,
   "id": "3b8720f2",
   "metadata": {},
   "outputs": [
    {
     "data": {
      "text/html": [
       "<div>\n",
       "<style scoped>\n",
       "    .dataframe tbody tr th:only-of-type {\n",
       "        vertical-align: middle;\n",
       "    }\n",
       "\n",
       "    .dataframe tbody tr th {\n",
       "        vertical-align: top;\n",
       "    }\n",
       "\n",
       "    .dataframe thead th {\n",
       "        text-align: right;\n",
       "    }\n",
       "</style>\n",
       "<table border=\"1\" class=\"dataframe\">\n",
       "  <thead>\n",
       "    <tr style=\"text-align: right;\">\n",
       "      <th></th>\n",
       "      <th>매장명</th>\n",
       "      <th>주소</th>\n",
       "      <th>구</th>\n",
       "    </tr>\n",
       "  </thead>\n",
       "  <tbody>\n",
       "    <tr>\n",
       "      <th>594</th>\n",
       "      <td>사가정역</td>\n",
       "      <td>서울특별시 중랑구 면목로 310</td>\n",
       "      <td>중랑구</td>\n",
       "    </tr>\n",
       "    <tr>\n",
       "      <th>595</th>\n",
       "      <td>상봉역</td>\n",
       "      <td>서울특별시 중랑구 망우로 307 (상봉동)</td>\n",
       "      <td>중랑구</td>\n",
       "    </tr>\n",
       "    <tr>\n",
       "      <th>596</th>\n",
       "      <td>묵동</td>\n",
       "      <td>서울특별시 중랑구 동일로 952 (묵동, 로프트원 태릉입구역) 1층</td>\n",
       "      <td>중랑구</td>\n",
       "    </tr>\n",
       "    <tr>\n",
       "      <th>597</th>\n",
       "      <td>양원역</td>\n",
       "      <td>서울특별시 중랑구 양원역로10길 3 (망우동)</td>\n",
       "      <td>중랑구</td>\n",
       "    </tr>\n",
       "    <tr>\n",
       "      <th>598</th>\n",
       "      <td>중화역</td>\n",
       "      <td>서울특별시 중랑구 봉화산로 35</td>\n",
       "      <td>중랑구</td>\n",
       "    </tr>\n",
       "  </tbody>\n",
       "</table>\n",
       "</div>"
      ],
      "text/plain": [
       "      매장명                                     주소    구\n",
       "594  사가정역                      서울특별시 중랑구 면목로 310  중랑구\n",
       "595   상봉역                서울특별시 중랑구 망우로 307 (상봉동)  중랑구\n",
       "596    묵동  서울특별시 중랑구 동일로 952 (묵동, 로프트원 태릉입구역) 1층  중랑구\n",
       "597   양원역              서울특별시 중랑구 양원역로10길 3 (망우동)  중랑구\n",
       "598   중화역                     서울특별시 중랑구 봉화산로 35   중랑구"
      ]
     },
     "execution_count": 12,
     "metadata": {},
     "output_type": "execute_result"
    }
   ],
   "source": [
    "# 스타벅스 DataFrame\n",
    "\n",
    "df_starbucks = pd.DataFrame(sb_list, columns = [\"매장명\", \"주소\", \"구\"])\n",
    "df_starbucks.tail()"
   ]
  },
  {
   "cell_type": "code",
   "execution_count": 13,
   "id": "d58772d8",
   "metadata": {},
   "outputs": [
    {
     "data": {
      "text/plain": [
       "['도봉구',\n",
       " '노원구',\n",
       " '서대문구',\n",
       " '용산구',\n",
       " '서초구',\n",
       " '관악구',\n",
       " '양천구',\n",
       " '강동구',\n",
       " '금천구',\n",
       " '종로구',\n",
       " '강서구',\n",
       " '은평구',\n",
       " '송파구',\n",
       " '중구',\n",
       " '성동구',\n",
       " '성북구',\n",
       " '마포구',\n",
       " '영등포구',\n",
       " '동대문구',\n",
       " '강남구',\n",
       " '동작구',\n",
       " '강북구',\n",
       " '중랑구',\n",
       " '광진구',\n",
       " '구로구']"
      ]
     },
     "execution_count": 13,
     "metadata": {},
     "output_type": "execute_result"
    }
   ],
   "source": [
    "# set : 중복 제거\n",
    "# 구 리스트 확보\n",
    "\n",
    "gu_list = list(set(df_starbucks[\"구\"]))\n",
    "gu_list"
   ]
  },
  {
   "cell_type": "markdown",
   "id": "d17bc47e",
   "metadata": {},
   "source": [
    "## 👣 2. 이디야 매장 데이터 확보"
   ]
  },
  {
   "cell_type": "code",
   "execution_count": 14,
   "id": "3546264f",
   "metadata": {},
   "outputs": [],
   "source": [
    "# 이디야 매장 페이지\n",
    "\n",
    "driver.get(\"https://www.ediya.com/contents/find_store.html\")"
   ]
  },
  {
   "cell_type": "code",
   "execution_count": 15,
   "id": "1e211ec7",
   "metadata": {},
   "outputs": [],
   "source": [
    "first_content = driver.find_element(By.CSS_SELECTOR, '#contentWrap > div.contents > div > div.store_search_pop > ul > li:nth-child(2) > a')\n",
    "first_content.click()\n",
    "time.sleep(2)"
   ]
  },
  {
   "cell_type": "code",
   "execution_count": 16,
   "id": "588640aa",
   "metadata": {},
   "outputs": [],
   "source": [
    "second_content = driver.find_element(By.CSS_SELECTOR, '#keyword')\n",
    "second_content.click()\n",
    "time.sleep(2)"
   ]
  },
  {
   "cell_type": "code",
   "execution_count": 17,
   "id": "19bc5ff0",
   "metadata": {
    "scrolled": true
   },
   "outputs": [],
   "source": [
    "driver.find_element(By.CSS_SELECTOR, '#keyword').click()\n",
    "time.sleep(2)\n",
    "driver.find_element(By.CSS_SELECTOR, '#keyword').clear()\n",
    "time.sleep(2)\n",
    "driver.find_element(By.CSS_SELECTOR, '#keyword').send_keys(\"서울 강서구\")\n",
    "time.sleep(2)\n",
    "driver.find_element(By.CSS_SELECTOR, '#keyword_div > form > button').click()\n",
    "time.sleep(2)"
   ]
  },
  {
   "cell_type": "code",
   "execution_count": null,
   "id": "0da63a95",
   "metadata": {
    "scrolled": true
   },
   "outputs": [],
   "source": [
    "html = driver.page_source\n",
    "soup = BeautifulSoup(html, \"html.parser\")\n",
    "# soup.head()"
   ]
  },
  {
   "cell_type": "code",
   "execution_count": 19,
   "id": "eaab3213",
   "metadata": {
    "scrolled": true
   },
   "outputs": [
    {
     "data": {
      "text/plain": [
       "<li class=\"item\"><a href=\"#c\" onclick=\"panLatTo('0','0','0');fnMove();\"><div class=\"store_thum\"><img src=\"../images/customer/store_thum.gif\"/></div><dl><dt>가양역점</dt> <dd>서울 강서구 양천로 500 (등촌동)</dd></dl></a></li>"
      ]
     },
     "execution_count": 19,
     "metadata": {},
     "output_type": "execute_result"
    }
   ],
   "source": [
    "ediya_soup_list = soup.find(id = \"placesList\").find_all(\"li\", class_='item')\n",
    "ediya_soup_list[0]"
   ]
  },
  {
   "cell_type": "code",
   "execution_count": 20,
   "id": "0dc48ae9",
   "metadata": {},
   "outputs": [
    {
     "data": {
      "text/plain": [
       "('가양역점', '서울 강서구 양천로 500 (등촌동)', '강서구')"
      ]
     },
     "execution_count": 20,
     "metadata": {},
     "output_type": "execute_result"
    }
   ],
   "source": [
    "# 이디야 매장명, 주소, 구 확인 \n",
    "\n",
    "ed_name = ediya_soup_list[0].find(\"dt\").text.strip()\n",
    "ed_address = ediya_soup_list[0].find(\"dd\").text.strip()\n",
    "ed_address_gu = ed_address.split(\" \")[1]\n",
    "\n",
    "ed_name, ed_address, ed_address_gu"
   ]
  },
  {
   "cell_type": "code",
   "execution_count": null,
   "id": "83816dd4",
   "metadata": {
    "scrolled": true
   },
   "outputs": [],
   "source": [
    "# 이디야 서울 모든 매장명, 주소, 구 추출\n",
    "\n",
    "ed_list = []\n",
    "\n",
    "for gu in tqdm_notebook(gu_list):\n",
    "    \n",
    "    driver.find_element(By.CSS_SELECTOR, '#keyword').click()\n",
    "    time.sleep(0.5)\n",
    "    driver.find_element(By.CSS_SELECTOR, '#keyword').clear()\n",
    "    time.sleep(0.5)\n",
    "    driver.find_element(By.CSS_SELECTOR, '#keyword').send_keys(\"서울 \" + gu)\n",
    "    time.sleep(0.5)\n",
    "    driver.find_element(By.CSS_SELECTOR, '#keyword_div > form > button').click()\n",
    "    time.sleep(0.5)\n",
    "    \n",
    "    html = driver.page_source\n",
    "    soup = BeautifulSoup(html, \"html.parser\")\n",
    "    ediya_soup_list = soup.find(\"ul\", id = \"placesList\").find_all(\"li\", class_='item')\n",
    "    \n",
    "    for item in ediya_soup_list:\n",
    "        ed_name = item.find(\"dt\").text.strip()\n",
    "        ed_address = item.find(\"dd\").text.strip()\n",
    "        ed_address_gu = ed_address.split(\" \")[1]\n",
    "\n",
    "        ed = {\n",
    "            \"매장명\" : ed_name,\n",
    "            \"주소\" : ed_address,\n",
    "            \"구\" : ed_address_gu\n",
    "        }\n",
    "        ed_list.append(ed)\n",
    "    \n",
    "# len(ed_list), ed_list    "
   ]
  },
  {
   "cell_type": "code",
   "execution_count": 22,
   "id": "bf2f55d4",
   "metadata": {},
   "outputs": [
    {
     "data": {
      "text/html": [
       "<div>\n",
       "<style scoped>\n",
       "    .dataframe tbody tr th:only-of-type {\n",
       "        vertical-align: middle;\n",
       "    }\n",
       "\n",
       "    .dataframe tbody tr th {\n",
       "        vertical-align: top;\n",
       "    }\n",
       "\n",
       "    .dataframe thead th {\n",
       "        text-align: right;\n",
       "    }\n",
       "</style>\n",
       "<table border=\"1\" class=\"dataframe\">\n",
       "  <thead>\n",
       "    <tr style=\"text-align: right;\">\n",
       "      <th></th>\n",
       "      <th>매장명</th>\n",
       "      <th>주소</th>\n",
       "      <th>구</th>\n",
       "    </tr>\n",
       "  </thead>\n",
       "  <tbody>\n",
       "    <tr>\n",
       "      <th>704</th>\n",
       "      <td>신도림메르디앙점</td>\n",
       "      <td>서울 구로구 신도림로 65 (신도림동, 신도림월드메르디앙오피스텔)</td>\n",
       "      <td>구로구</td>\n",
       "    </tr>\n",
       "    <tr>\n",
       "      <th>705</th>\n",
       "      <td>신도림테크노마트점</td>\n",
       "      <td>서울 구로구 새말로 97 (구로동)</td>\n",
       "      <td>구로구</td>\n",
       "    </tr>\n",
       "    <tr>\n",
       "      <th>706</th>\n",
       "      <td>오류남부점</td>\n",
       "      <td>서울 구로구 오류로8길 65 (오류동)</td>\n",
       "      <td>구로구</td>\n",
       "    </tr>\n",
       "    <tr>\n",
       "      <th>707</th>\n",
       "      <td>오류북부역점</td>\n",
       "      <td>서울 구로구 경인로20길 6 (오류동)</td>\n",
       "      <td>구로구</td>\n",
       "    </tr>\n",
       "    <tr>\n",
       "      <th>708</th>\n",
       "      <td>천왕이펜하우스점</td>\n",
       "      <td>서울 구로구 천왕로 36 (천왕동)</td>\n",
       "      <td>구로구</td>\n",
       "    </tr>\n",
       "  </tbody>\n",
       "</table>\n",
       "</div>"
      ],
      "text/plain": [
       "           매장명                                    주소    구\n",
       "704   신도림메르디앙점  서울 구로구 신도림로 65 (신도림동, 신도림월드메르디앙오피스텔)  구로구\n",
       "705  신도림테크노마트점                   서울 구로구 새말로 97 (구로동)  구로구\n",
       "706      오류남부점                 서울 구로구 오류로8길 65 (오류동)  구로구\n",
       "707     오류북부역점                 서울 구로구 경인로20길 6 (오류동)  구로구\n",
       "708   천왕이펜하우스점                   서울 구로구 천왕로 36 (천왕동)  구로구"
      ]
     },
     "execution_count": 22,
     "metadata": {},
     "output_type": "execute_result"
    }
   ],
   "source": [
    "driver.quit()\n",
    "# 이디야 DataFrame\n",
    "\n",
    "df_ediya = pd.DataFrame(ed_list)\n",
    "df_ediya.tail()"
   ]
  },
  {
   "cell_type": "markdown",
   "id": "17d1caf3",
   "metadata": {},
   "source": [
    "## 👣 3. 스타벅스, 이디야 데이터 시각화 및 분석"
   ]
  },
  {
   "cell_type": "code",
   "execution_count": 23,
   "id": "33beb77b",
   "metadata": {},
   "outputs": [
    {
     "data": {
      "text/html": [
       "<div>\n",
       "<style scoped>\n",
       "    .dataframe tbody tr th:only-of-type {\n",
       "        vertical-align: middle;\n",
       "    }\n",
       "\n",
       "    .dataframe tbody tr th {\n",
       "        vertical-align: top;\n",
       "    }\n",
       "\n",
       "    .dataframe thead th {\n",
       "        text-align: right;\n",
       "    }\n",
       "</style>\n",
       "<table border=\"1\" class=\"dataframe\">\n",
       "  <thead>\n",
       "    <tr style=\"text-align: right;\">\n",
       "      <th></th>\n",
       "      <th>구</th>\n",
       "      <th>스타벅스 매장 수</th>\n",
       "    </tr>\n",
       "  </thead>\n",
       "  <tbody>\n",
       "    <tr>\n",
       "      <th>0</th>\n",
       "      <td>도봉구</td>\n",
       "      <td>4</td>\n",
       "    </tr>\n",
       "    <tr>\n",
       "      <th>1</th>\n",
       "      <td>노원구</td>\n",
       "      <td>14</td>\n",
       "    </tr>\n",
       "    <tr>\n",
       "      <th>2</th>\n",
       "      <td>서대문구</td>\n",
       "      <td>22</td>\n",
       "    </tr>\n",
       "    <tr>\n",
       "      <th>3</th>\n",
       "      <td>용산구</td>\n",
       "      <td>25</td>\n",
       "    </tr>\n",
       "    <tr>\n",
       "      <th>4</th>\n",
       "      <td>서초구</td>\n",
       "      <td>48</td>\n",
       "    </tr>\n",
       "  </tbody>\n",
       "</table>\n",
       "</div>"
      ],
      "text/plain": [
       "      구  스타벅스 매장 수\n",
       "0   도봉구          4\n",
       "1   노원구         14\n",
       "2  서대문구         22\n",
       "3   용산구         25\n",
       "4   서초구         48"
      ]
     },
     "execution_count": 23,
     "metadata": {},
     "output_type": "execute_result"
    }
   ],
   "source": [
    "df_starbucks.rename(columns={\"매장명\" : \"스타벅스매장\", \"주소\" : \"스타벅스주소\"}, inplace=True)\n",
    "df_ediya.rename(columns={\"매장명\" : \"이디야매장\", \"주소\" : \"이디야주소\"}, inplace=True)\n",
    "\n",
    "starbucks_count = []\n",
    "for item in gu_list:\n",
    "    n = len(df_starbucks.loc[df_starbucks['구']==item])\n",
    "    data = {\n",
    "        \"구\" : item,\n",
    "        \"스타벅스 매장 수\" : n\n",
    "    }\n",
    "    starbucks_count.append(data)\n",
    "\n",
    "df_starbucks_count = pd.DataFrame(starbucks_count)\n",
    "df_starbucks_count.head()"
   ]
  },
  {
   "cell_type": "code",
   "execution_count": 24,
   "id": "cb5a4289",
   "metadata": {},
   "outputs": [
    {
     "data": {
      "text/html": [
       "<div>\n",
       "<style scoped>\n",
       "    .dataframe tbody tr th:only-of-type {\n",
       "        vertical-align: middle;\n",
       "    }\n",
       "\n",
       "    .dataframe tbody tr th {\n",
       "        vertical-align: top;\n",
       "    }\n",
       "\n",
       "    .dataframe thead th {\n",
       "        text-align: right;\n",
       "    }\n",
       "</style>\n",
       "<table border=\"1\" class=\"dataframe\">\n",
       "  <thead>\n",
       "    <tr style=\"text-align: right;\">\n",
       "      <th></th>\n",
       "      <th>구</th>\n",
       "      <th>이디야 매장 수</th>\n",
       "    </tr>\n",
       "  </thead>\n",
       "  <tbody>\n",
       "    <tr>\n",
       "      <th>0</th>\n",
       "      <td>도봉구</td>\n",
       "      <td>24</td>\n",
       "    </tr>\n",
       "    <tr>\n",
       "      <th>1</th>\n",
       "      <td>노원구</td>\n",
       "      <td>30</td>\n",
       "    </tr>\n",
       "    <tr>\n",
       "      <th>2</th>\n",
       "      <td>서대문구</td>\n",
       "      <td>20</td>\n",
       "    </tr>\n",
       "    <tr>\n",
       "      <th>3</th>\n",
       "      <td>용산구</td>\n",
       "      <td>14</td>\n",
       "    </tr>\n",
       "    <tr>\n",
       "      <th>4</th>\n",
       "      <td>서초구</td>\n",
       "      <td>29</td>\n",
       "    </tr>\n",
       "  </tbody>\n",
       "</table>\n",
       "</div>"
      ],
      "text/plain": [
       "      구  이디야 매장 수\n",
       "0   도봉구        24\n",
       "1   노원구        30\n",
       "2  서대문구        20\n",
       "3   용산구        14\n",
       "4   서초구        29"
      ]
     },
     "execution_count": 24,
     "metadata": {},
     "output_type": "execute_result"
    }
   ],
   "source": [
    "ediya_count = []\n",
    "for item in gu_list:\n",
    "    n = len(df_ediya.loc[df_ediya[\"구\"]==item])\n",
    "    dict = {\n",
    "        \"구\" : item,\n",
    "        \"이디야 매장 수\" : n\n",
    "    }\n",
    "    ediya_count.append(dict)\n",
    "df_ediya_count = pd.DataFrame(ediya_count)\n",
    "df_ediya_count.head()"
   ]
  },
  {
   "cell_type": "code",
   "execution_count": 25,
   "id": "0f740348",
   "metadata": {},
   "outputs": [
    {
     "data": {
      "text/plain": [
       "count    25.000000\n",
       "mean     13.280000\n",
       "std       9.062376\n",
       "min       0.000000\n",
       "25%       9.000000\n",
       "50%      14.000000\n",
       "75%      16.000000\n",
       "max      44.000000\n",
       "Name: 매장 수 차이, dtype: float64"
      ]
     },
     "execution_count": 25,
     "metadata": {},
     "output_type": "execute_result"
    }
   ],
   "source": [
    "pop = pd.merge(df_starbucks_count, df_ediya_count)\n",
    "pop[\"매장 수 차이\"] = abs(pop[\"스타벅스 매장 수\"] - pop[\"이디야 매장 수\"])\n",
    "pop[\"매장 수 차이\"].describe()"
   ]
  },
  {
   "cell_type": "code",
   "execution_count": 28,
   "id": "0fd0c216",
   "metadata": {},
   "outputs": [
    {
     "data": {
      "image/png": "[encoded data removed]",
      "text/plain": [
       "<Figure size 2500x1000 with 2 Axes>"
      ]
     },
     "metadata": {},
     "output_type": "display_data"
    }
   ],
   "source": [
    "x = [0, len(pop[\"구\"])]\n",
    "y = [14 , 14]\n",
    "\n",
    "color_step=[\"#e74c3c\",\"#3498db\",\"#3498db\"]\n",
    "my_cmap = ListedColormap(color_step)\n",
    "\n",
    "plt.figure(figsize=(25, 10))\n",
    "plt.scatter(pop[\"구\"], pop[\"매장 수 차이\"], c=pop[\"매장 수 차이\"], s=50, cmap=my_cmap)\n",
    "plt.plot(x, y, ls=\"dashed\", lw=3, color=\"g\")\n",
    "for n in range(len(pop.index)):\n",
    "    plt.text(\n",
    "        pop.index[n]*1.02,\n",
    "        pop[\"매장 수 차이\"][n]*0.98,\n",
    "        pop[\"매장 수 차이\"][n],\n",
    "        fontsize=15  \n",
    "    )\n",
    "    \n",
    "    plt.text(\n",
    "        pop.index[n]*1.02,\n",
    "        pop[\"매장 수 차이\"][n]*0.98,\n",
    "        pop[\"매장 수 차이\"][n],\n",
    "        fontsize=15   \n",
    "    )\n",
    "plt.xlabel(\"구 (25개)\", fontsize=20)\n",
    "plt.ylabel(\"매장 수 차이\", fontsize=20)\n",
    "plt.colorbar()\n",
    "plt.grid()\n",
    "plt.show()"
   ]
  },
  {
   "cell_type": "markdown",
   "id": "36526e26",
   "metadata": {},
   "source": [
    "## **분석결과**\n",
    "이디야커피가 스타벅스 매장 근처에 따라 짓는다는 얘기를 듣고 두 매장 위치 데이터를 분석해보았다.\n",
    "분석 결과 매장 수 차이의 50%나 되는 값을 기준으로 잡아도 서울시의 절반정도되는 구들의 매장 수 차이가 크게 벌어져 있었다.\n",
    "아무래도 프렌차이즈화 된 비즈니스의 입장에선 사람들이 많이 드나드는 곳에 매장을 짓는 것은 당연할 수 밖에 없다.\n",
    "그럼에도 불구하고 50%정도밖에 비슷한 위치에 위치하는 것은 전혀 따라 짓는 것으로 보여지지 않는다.\n",
    "따라서 위 데이터를 토대로 이디야 커피가 스타벅스 매장 근처에 따라 짓는다는 것은 사실이 아니라고 생각한다."
   ]
  }
 ],
 "metadata": {
  "kernelspec": {
   "display_name": "Python 3 (ipykernel)",
   "language": "python",
   "name": "python3"
  },
  "language_info": {
   "codemirror_mode": {
    "name": "ipython",
    "version": 3
   },
   "file_extension": ".py",
   "mimetype": "text/x-python",
   "name": "python",
   "nbconvert_exporter": "python",
   "pygments_lexer": "ipython3",
   "version": "3.8.16"
  }
 },
 "nbformat": 4,
 "nbformat_minor": 5
}
